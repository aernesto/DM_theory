{
 "cells": [
  {
   "cell_type": "markdown",
   "metadata": {},
   "source": [
    "Consider three decision making models, $D_\\text{ref}, D_1$ and $D_2$, in the following context. Given a stimulus $s\\in [0,1]$, each model outputs a decision $d($"
   ]
  },
  {
   "cell_type": "code",
   "execution_count": 9,
   "metadata": {},
   "outputs": [],
   "source": [
    "from dm import *\n",
    "import matplotlib.pyplot as plt\n",
    "from IPython.display import HTML\n",
    "%matplotlib inline"
   ]
  },
  {
   "cell_type": "code",
   "execution_count": 12,
   "metadata": {},
   "outputs": [
    {
     "data": {
      "text/html": [
       "<script>\n",
       "code_show=true; \n",
       "function code_toggle() {\n",
       " if (code_show){\n",
       " $('div.input').hide();\n",
       " } else {\n",
       " $('div.input').show();\n",
       " }\n",
       " code_show = !code_show\n",
       "} \n",
       "$( document ).ready(code_toggle);\n",
       "</script><font size=4>\n",
       "The raw code for this IPython notebook is by default hidden for easier reading.\n",
       "To toggle on/off the raw code, click <a href=\"javascript:code_toggle()\">here</a>.</font>"
      ],
      "text/plain": [
       "<IPython.core.display.HTML object>"
      ]
     },
     "execution_count": 12,
     "metadata": {},
     "output_type": "execute_result"
    }
   ],
   "source": [
    "# this cell hides all the code cells by default\n",
    "HTML('''<script>\n",
    "code_show=true; \n",
    "function code_toggle() {\n",
    " if (code_show){\n",
    " $('div.input').hide();\n",
    " } else {\n",
    " $('div.input').show();\n",
    " }\n",
    " code_show = !code_show\n",
    "} \n",
    "$( document ).ready(code_toggle);\n",
    "</script><font size=4>\n",
    "The raw code for this IPython notebook is by default hidden for easier reading.\n",
    "To toggle on/off the raw code, click <a href=\"javascript:code_toggle()\">here</a>.</font>''')"
   ]
  },
  {
   "cell_type": "code",
   "execution_count": 8,
   "metadata": {},
   "outputs": [
    {
     "data": {
      "text/plain": [
       "(array([108., 102., 104., 106.,  71.,  99., 101., 106., 101., 102.]),\n",
       " array([0.00150335, 0.10132137, 0.20113939, 0.30095742, 0.40077544,\n",
       "        0.50059346, 0.60041148, 0.70022951, 0.80004753, 0.89986555,\n",
       "        0.99968357]),\n",
       " <a list of 1 Patch objects>)"
      ]
     },
     "execution_count": 8,
     "metadata": {},
     "output_type": "execute_result"
    },
    {
     "data": {
      "image/png": "[encoded data removed]",
      "text/plain": [
       "<Figure size 432x288 with 1 Axes>"
      ]
     },
     "metadata": {},
     "output_type": "display_data"
    }
   ],
   "source": [
    "# plot stimulus\n",
    "plt.hist(stim.sequence)"
   ]
  },
  {
   "cell_type": "code",
   "execution_count": 3,
   "metadata": {},
   "outputs": [],
   "source": [
    "# decision makers\n",
    "Dh = BernoulliDecisionMaker('Dh')\n",
    "D1 = BernoulliDecisionMaker('D1')\n",
    "D2 = BernoulliDecisionMaker('D2', bias=.7)\n",
    "\n",
    "decision_makers = {Dh, D1, D2}\n",
    "\n",
    "# generate decisions with all of them\n",
    "for D in decision_makers:\n",
    "    D.present_stimulus(stim.sequence)\n",
    "    D.decisions = D.bernoulli_decide(D.perceived_stimulus)\n",
    "    D.compute_accuracy(stim.correct)"
   ]
  },
  {
   "cell_type": "code",
   "execution_count": 4,
   "metadata": {},
   "outputs": [
    {
     "name": "stdout",
     "output_type": "stream",
     "text": [
      "name: D2\n",
      "bias: 0.7\n",
      "accuracy: 0.933\n",
      "\n",
      "name: D1\n",
      "bias: 0\n",
      "accuracy: 0.762\n",
      "\n",
      "name: Dh\n",
      "bias: 0\n",
      "accuracy: 0.765\n",
      "\n"
     ]
    }
   ],
   "source": [
    "# explore decision makers and compute some statistics\n",
    "for D in decision_makers:\n",
    "    print(D)\n",
    "#     print(stim)\n",
    "#     print(D.perceived_stimulus)\n",
    "#     print(D.decisions)\n",
    "#     print('\\n')"
   ]
  },
  {
   "cell_type": "code",
   "execution_count": 5,
   "metadata": {},
   "outputs": [
    {
     "name": "stdout",
     "output_type": "stream",
     "text": [
      "D2 73.4%\n",
      "D1 67.1%\n"
     ]
    }
   ],
   "source": [
    "# compare models in terms of percent match\n",
    "for D in decision_makers - {Dh}:\n",
    "    D.percent_match = np.sum(D.decisions == Dh.decisions) / len(stim.sequence)\n",
    "    print(f\"{D.name} {round(100 * D.percent_match,2)}%\")"
   ]
  },
  {
   "cell_type": "code",
   "execution_count": null,
   "metadata": {},
   "outputs": [],
   "source": []
  }
 ],
 "metadata": {
  "kernelspec": {
   "display_name": "Python 3.7 (DM_theory)",
   "language": "python",
   "name": "dm_theory"
  },
  "language_info": {
   "codemirror_mode": {
    "name": "ipython",
    "version": 3
   },
   "file_extension": ".py",
   "mimetype": "text/x-python",
   "name": "python",
   "nbconvert_exporter": "python",
   "pygments_lexer": "ipython3",
   "version": "3.6.5"
  }
 },
 "nbformat": 4,
 "nbformat_minor": 2
}
