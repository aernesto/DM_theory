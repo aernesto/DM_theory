{
 "cells": [
  {
   "cell_type": "markdown",
   "metadata": {},
   "source": [
    "The first aim of this notebook is to illustrate the scientist's problem when fitting a decision making model. \n",
    "\n",
    "To start simple, the decision space is binary and the stimulus space is the continuum $[0,1]$.\n",
    "\n",
    "I propose to simulate data from a decision maker unknown to the public, let's call it $D_h$.\n",
    "Then, I propose to offer two candidate models $D_1, D_2$ to explain the data. Without the public knowing, I set $D_1=D_h$ and $D_2\\neq D_h$. I would like to design $D_1$ and $D_2$ carefully so that I can trump the public in believing that $D_2$ surpasses $D_1$ in regards to its 'explanatory power'."
   ]
  },
  {
   "cell_type": "code",
   "execution_count": 69,
   "metadata": {},
   "outputs": [],
   "source": [
    "from scipy.stats import bernoulli, uniform\n",
    "import numpy as np"
   ]
  },
  {
   "cell_type": "code",
   "execution_count": 70,
   "metadata": {},
   "outputs": [],
   "source": [
    "class BernoulliDecisionMaker:\n",
    "    \"\"\"\n",
    "    This decision maker is oblivious to the stimulus, it is a pure Bernoulli r.v.\n",
    "    \"\"\"\n",
    "    def __init__(self, name, p=None, bias=0):\n",
    "        \"\"\"\n",
    "        :param p: sucess probability of r.v.\n",
    "        \"\"\"\n",
    "        self.name = name\n",
    "        self.p = p\n",
    "        self.bias = bias\n",
    "        self.decisions = None\n",
    "        self.perceived_stimulus = None\n",
    "        self.accuracy = None\n",
    "        \n",
    "    def __str__(self):\n",
    "        return f\"name: {self.name}\\n\" \\\n",
    "               f\"bias: {self.bias}\\n\" \\\n",
    "               f\"accuracy: {self.accuracy}\\n\"\n",
    "                \n",
    "    def compute_accuracy(self, correct):\n",
    "        if self.decisions is None:\n",
    "            f\"No decisions have been made\"\n",
    "        else:\n",
    "            self.accuracy = np.sum(self.decisions == correct) / len(correct)\n",
    "    \n",
    "    def decide(self, n):\n",
    "        \"\"\"\n",
    "        makes n decisions, independent of stimulus, and using constant success probability\n",
    "        :param n: number of independent samples to draw\n",
    "        \"\"\"\n",
    "        self.decisions = bernoulli.rvs(self.p, size=n)\n",
    "    \n",
    "    def present_stimulus(self, s):\n",
    "        \"\"\"\n",
    "        modifies stimulus s as if its perception were biased towards the extremes {0,1}\n",
    "        :param s: array of stimulus values between 0 and 1\n",
    "        :param bias: number between 0 and 1\n",
    "        \"\"\"\n",
    "        if self.bias == 0:\n",
    "            self.perceived_stimulus = s\n",
    "        else:\n",
    "            def apply_bias(ss):\n",
    "                gap = (1 - self.bias) / 2\n",
    "                if ss < 0.5:\n",
    "                    return uniform.rvs(loc=0,scale=gap,size=1)\n",
    "                else:\n",
    "                    return uniform.rvs(loc=0.5 + self.bias/2, scale=gap, size=1)\n",
    "            self.perceived_stimulus = np.array([apply_bias(sss) for sss in s])\n",
    "    \n",
    "    @classmethod\n",
    "    def bernoulli_decide(cls, probabilities):\n",
    "        \"\"\"\n",
    "        makes N Bernoulli decisions with specified success probabilities, where N is the length of 'probabilities'\n",
    "        :param probabilities: array of success probabilities\n",
    "        \"\"\"\n",
    "        return np.array([bernoulli.rvs(pp) for pp in probabilities])"
   ]
  },
  {
   "cell_type": "code",
   "execution_count": 71,
   "metadata": {},
   "outputs": [],
   "source": [
    "class StimulusUnitInterval:\n",
    "    sequence = None\n",
    "    \n",
    "    def __init__(self, size=10):\n",
    "        self.size = size\n",
    "        self.sequence = None\n",
    "        self.correct = None\n",
    "    \n",
    "    def __str__(self):\n",
    "        return f\"stim 1-10: {str([round(x,2) for x in self.sequence[0:10]])}\\n\" \\\n",
    "               f\"correct 1-10: {str(self.correct[0:10])}\"\n",
    "    \n",
    "    def generate_sequence(self, mode):\n",
    "        if mode == 'random':\n",
    "            self.sequence = self.generate_random_sequence(self.size)\n",
    "        else: \n",
    "            raise ValueError(f\"only supported mode is 'random' for now\")\n",
    "        self.correct = self.sequence > 0.5\n",
    "        \n",
    "    @classmethod\n",
    "    def generate_random_sequence(cls, n):\n",
    "        return uniform.rvs(size=n)"
   ]
  },
  {
   "cell_type": "code",
   "execution_count": 72,
   "metadata": {},
   "outputs": [
    {
     "name": "stdout",
     "output_type": "stream",
     "text": [
      "stim 1-10: [0.33, 0.95, 0.53, 0.48, 0.28, 0.82, 0.31, 0.97, 0.22, 0.02]\n",
      "correct 1-10: [False  True  True False False  True False  True False False]\n"
     ]
    }
   ],
   "source": [
    "stim = StimulusUnitInterval()\n",
    "stim.size = 1000\n",
    "stim.generate_sequence('random')\n",
    "print(stim)"
   ]
  },
  {
   "cell_type": "code",
   "execution_count": 73,
   "metadata": {},
   "outputs": [],
   "source": [
    "# decision makers\n",
    "Dh = BernoulliDecisionMaker('Dh')\n",
    "D1 = BernoulliDecisionMaker('D1')\n",
    "D2 = BernoulliDecisionMaker('D2', bias=.7)\n",
    "\n",
    "decision_makers = {Dh, D1, D2}\n",
    "\n",
    "# generate decisions with all of them\n",
    "for D in decision_makers:\n",
    "    D.present_stimulus(stim.sequence)\n",
    "    D.decisions = D.bernoulli_decide(D.perceived_stimulus)\n",
    "    D.compute_accuracy(stim.correct)"
   ]
  },
  {
   "cell_type": "code",
   "execution_count": 74,
   "metadata": {},
   "outputs": [
    {
     "name": "stdout",
     "output_type": "stream",
     "text": [
      "name: D2\n",
      "bias: 0.7\n",
      "accuracy: 0.926\n",
      "\n",
      "name: Dh\n",
      "bias: 0\n",
      "accuracy: 0.735\n",
      "\n",
      "name: D1\n",
      "bias: 0\n",
      "accuracy: 0.741\n",
      "\n"
     ]
    }
   ],
   "source": [
    "# explore decision makers and compute some statistics\n",
    "for D in decision_makers:\n",
    "    print(D)\n",
    "#     print(stim)\n",
    "#     print(D.perceived_stimulus)\n",
    "#     print(D.decisions)\n",
    "#     print('\\n')"
   ]
  },
  {
   "cell_type": "code",
   "execution_count": 75,
   "metadata": {},
   "outputs": [
    {
     "name": "stdout",
     "output_type": "stream",
     "text": [
      "D2 70.9%\n",
      "D1 66.8%\n"
     ]
    }
   ],
   "source": [
    "# compare models in terms of percent match\n",
    "for D in decision_makers - {Dh}:\n",
    "    D.percent_match = np.sum(D.decisions == Dh.decisions) / len(stim.sequence)\n",
    "    print(f\"{D.name} {round(100 * D.percent_match,2)}%\")"
   ]
  },
  {
   "cell_type": "code",
   "execution_count": null,
   "metadata": {},
   "outputs": [],
   "source": []
  }
 ],
 "metadata": {
  "kernelspec": {
   "display_name": "Python 3.7 (DM_theory)",
   "language": "python",
   "name": "dm_theory"
  },
  "language_info": {
   "codemirror_mode": {
    "name": "ipython",
    "version": 3
   },
   "file_extension": ".py",
   "mimetype": "text/x-python",
   "name": "python",
   "nbconvert_exporter": "python",
   "pygments_lexer": "ipython3",
   "version": "3.6.5"
  }
 },
 "nbformat": 4,
 "nbformat_minor": 2
}
